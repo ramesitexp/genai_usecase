{
 "cells": [
  {
   "cell_type": "code",
   "execution_count": 1,
   "id": "a64fd066",
   "metadata": {},
   "outputs": [
    {
     "ename": "SyntaxError",
     "evalue": "invalid decimal literal (3702017420.py, line 1)",
     "output_type": "error",
     "traceback": [
      "\u001b[1;36m  Cell \u001b[1;32mIn[1], line 1\u001b[1;36m\u001b[0m\n\u001b[1;33m    euri-36ad988b5791b2acf6422c3ca602d204c7c77dad4378bacf5835a507ef8bdf55\u001b[0m\n\u001b[1;37m          ^\u001b[0m\n\u001b[1;31mSyntaxError\u001b[0m\u001b[1;31m:\u001b[0m invalid decimal literal\n"
     ]
    }
   ],
   "source": [
    "euri-36ad988b5791b2acf6422c3ca602d204c7c77dad4378bacf5835a507ef8bdf55"
   ]
  },
  {
   "cell_type": "code",
   "execution_count": 2,
   "id": "75fce9f9",
   "metadata": {},
   "outputs": [
    {
     "name": "stdout",
     "output_type": "stream",
     "text": [
      "Collecting pydantic==2.1.1\n",
      "  Using cached pydantic-2.1.1-py3-none-any.whl.metadata (136 kB)\n",
      "Requirement already satisfied: annotated-types>=0.4.0 in c:\\users\\rames\\anaconda3\\envs\\interview\\lib\\site-packages (from pydantic==2.1.1) (0.7.0)\n",
      "Collecting pydantic-core==2.4.0 (from pydantic==2.1.1)\n",
      "  Downloading pydantic_core-2.4.0-cp310-none-win_amd64.whl.metadata (6.6 kB)\n",
      "Requirement already satisfied: typing-extensions>=4.6.1 in c:\\users\\rames\\anaconda3\\envs\\interview\\lib\\site-packages (from pydantic==2.1.1) (4.12.1)\n",
      "Using cached pydantic-2.1.1-py3-none-any.whl (370 kB)\n",
      "Downloading pydantic_core-2.4.0-cp310-none-win_amd64.whl (1.7 MB)\n",
      "   ---------------------------------------- 0.0/1.7 MB ? eta -:--:--\n",
      "    --------------------------------------- 0.0/1.7 MB 991.0 kB/s eta 0:00:02\n",
      "   ------ --------------------------------- 0.3/1.7 MB 3.4 MB/s eta 0:00:01\n",
      "   ------------------------ --------------- 1.0/1.7 MB 8.3 MB/s eta 0:00:01\n",
      "   ------------------------ --------------- 1.0/1.7 MB 8.3 MB/s eta 0:00:01\n",
      "   ---------------------------------------- 1.7/1.7 MB 8.4 MB/s eta 0:00:00\n",
      "Installing collected packages: pydantic-core, pydantic\n",
      "  Attempting uninstall: pydantic-core\n",
      "    Found existing installation: pydantic_core 2.18.4\n",
      "    Uninstalling pydantic_core-2.18.4:\n",
      "      Successfully uninstalled pydantic_core-2.18.4\n",
      "  Attempting uninstall: pydantic\n",
      "    Found existing installation: pydantic 2.7.3\n",
      "    Uninstalling pydantic-2.7.3:\n",
      "      Successfully uninstalled pydantic-2.7.3\n",
      "Successfully installed pydantic-2.1.1 pydantic-core-2.4.0\n",
      "Note: you may need to restart the kernel to use updated packages.\n"
     ]
    }
   ],
   "source": [
    "pip install \"pydantic==2.1.1\"\n"
   ]
  },
  {
   "cell_type": "code",
   "execution_count": 5,
   "id": "fd500ac1",
   "metadata": {},
   "outputs": [
    {
     "name": "stdout",
     "output_type": "stream",
     "text": [
      "Requirement already satisfied: euriai in c:\\users\\rames\\anaconda3\\envs\\interview\\lib\\site-packages (1.0.32)\n",
      "Requirement already satisfied: requests in c:\\users\\rames\\anaconda3\\envs\\interview\\lib\\site-packages (from euriai) (2.32.3)\n",
      "Requirement already satisfied: numpy in c:\\users\\rames\\anaconda3\\envs\\interview\\lib\\site-packages (from euriai) (1.26.4)\n",
      "Requirement already satisfied: pyyaml in c:\\users\\rames\\anaconda3\\envs\\interview\\lib\\site-packages (from euriai) (6.0.1)\n",
      "Requirement already satisfied: charset-normalizer<4,>=2 in c:\\users\\rames\\anaconda3\\envs\\interview\\lib\\site-packages (from requests->euriai) (3.3.2)\n",
      "Requirement already satisfied: idna<4,>=2.5 in c:\\users\\rames\\anaconda3\\envs\\interview\\lib\\site-packages (from requests->euriai) (3.7)\n",
      "Requirement already satisfied: urllib3<3,>=1.21.1 in c:\\users\\rames\\anaconda3\\envs\\interview\\lib\\site-packages (from requests->euriai) (2.2.1)\n",
      "Requirement already satisfied: certifi>=2017.4.17 in c:\\users\\rames\\anaconda3\\envs\\interview\\lib\\site-packages (from requests->euriai) (2024.6.2)\n",
      "Note: you may need to restart the kernel to use updated packages.\n"
     ]
    }
   ],
   "source": [
    "pip install  euriai"
   ]
  },
  {
   "cell_type": "code",
   "execution_count": null,
   "id": "f92c941b",
   "metadata": {},
   "outputs": [],
   "source": [
    "import ast,re,math,os,sys\n",
    "os.environ[\"euri-api-key\"] = \"euri-a5b674ba7e34a325397e4e77cc942c1784ff33ba8cbc46ae04da29087309d9aa\"\n",
    "from euriai.langchain import create_chat_model\n",
    "from langchain.agents import create_react_agent,AgentExecutor\n",
    "from langchain_core.prompts import PromptTemplate,ChatPromptTemplate,MessagesPlaceholder\n",
    "from langchain_core.output_parsers import StrOutputParser,ResponseSchema,StrOutputParser\n",
    "from langchain_core.runnables import RaunnablePassthrough,RunnableLambda,RunnableWithMessageHistory\n"
   ]
  },
  {
   "cell_type": "code",
   "execution_count": null,
   "id": "ac9e00e4",
   "metadata": {},
   "outputs": [],
   "source": []
  },
  {
   "cell_type": "code",
   "execution_count": null,
   "id": "15d58334",
   "metadata": {},
   "outputs": [],
   "source": []
  },
  {
   "cell_type": "code",
   "execution_count": null,
   "id": "da442e60",
   "metadata": {},
   "outputs": [],
   "source": []
  },
  {
   "cell_type": "code",
   "execution_count": null,
   "id": "0eafbfb0",
   "metadata": {},
   "outputs": [],
   "source": []
  },
  {
   "cell_type": "code",
   "execution_count": null,
   "id": "df4a7e05",
   "metadata": {},
   "outputs": [],
   "source": []
  },
  {
   "cell_type": "code",
   "execution_count": null,
   "id": "b151427e",
   "metadata": {},
   "outputs": [],
   "source": []
  },
  {
   "cell_type": "code",
   "execution_count": null,
   "id": "0c2d199a",
   "metadata": {},
   "outputs": [],
   "source": []
  },
  {
   "cell_type": "code",
   "execution_count": null,
   "id": "cc8cc464",
   "metadata": {},
   "outputs": [],
   "source": []
  },
  {
   "cell_type": "code",
   "execution_count": null,
   "id": "f741d634",
   "metadata": {},
   "outputs": [],
   "source": []
  },
  {
   "cell_type": "code",
   "execution_count": null,
   "id": "f9a3472c",
   "metadata": {},
   "outputs": [],
   "source": []
  }
 ],
 "metadata": {
  "kernelspec": {
   "display_name": "interview",
   "language": "python",
   "name": "python3"
  },
  "language_info": {
   "codemirror_mode": {
    "name": "ipython",
    "version": 3
   },
   "file_extension": ".py",
   "mimetype": "text/x-python",
   "name": "python",
   "nbconvert_exporter": "python",
   "pygments_lexer": "ipython3",
   "version": "3.10.14"
  }
 },
 "nbformat": 4,
 "nbformat_minor": 5
}
